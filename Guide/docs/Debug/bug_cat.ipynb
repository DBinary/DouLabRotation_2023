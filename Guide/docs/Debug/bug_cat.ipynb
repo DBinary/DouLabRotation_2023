{
 "cells": [
  {
   "cell_type": "markdown",
   "metadata": {},
   "source": [
    "# telomerecat计算的端粒长度为0\n",
    "\n",
    "在使用telomerecat计算端粒长度的时候，对于我们的人类血液样本的测试样本，我们发现telomerecat计算的端粒长度大多为0,如下图所示。\n",
    "\n",
    "![Image title](./img/cat_bug.png)"
   ]
  }
 ],
 "metadata": {
  "language_info": {
   "name": "python"
  }
 },
 "nbformat": 4,
 "nbformat_minor": 2
}
