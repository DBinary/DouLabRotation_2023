{
 "cells": [
  {
   "cell_type": "markdown",
   "metadata": {},
   "source": [
    "# 使用computel估计端粒长度\n",
    "端粒是位于染色体末端的DNA-蛋白质复合体，在人出生时，其长度为8-15kb，每次复制之后，其长度会减少50-200bp。当端粒长度达到临界长度后，会导致复制性衰老和细胞衰亡。因此研究端粒长度对研究人类健康与疾病非常重要。\n",
    "\n",
    "在这里，我们将为您呈现对2015年发布的计算端粒长度的算法[computel](https://journals.plos.org/plosone/article?id=10.1371/journal.pone.0125201)进行复现的过程，并对所得结果进行详细解释。\n",
    "\n",
    "点击此处可以获得[computel](https://github.com/lilit-nersisyan/computel)的GitHub链接"
   ]
  },
  {
   "cell_type": "markdown",
   "metadata": {},
   "source": [
    "# computel的算法背景\n",
    "\n",
    "TelomereHunter是一个用于从人类全基因组测序数据中估算端粒含量的工具。**它被设计用于接收来自肿瘤和匹配对照样本的BAM文件作为输入。但也可以使用一个输入文件来运行TelomereHunter以计算端粒含量**。TelomereHunter从输入样本中提取并排序端粒reads，同时在估算端粒含量时，考虑了GC偏差。最后，TelomereHunter的结果以多个图表形式进行可视化呈现。\n",
    "\n",
    "**在不考虑肿瘤组织的科研课题中，我们只需要输入单一Bam文件即可使用telomerehunter计算端粒长度。**\n",
    "\n",
    "\n"
   ]
  }
 ],
 "metadata": {
  "language_info": {
   "name": "python"
  }
 },
 "nbformat": 4,
 "nbformat_minor": 2
}
