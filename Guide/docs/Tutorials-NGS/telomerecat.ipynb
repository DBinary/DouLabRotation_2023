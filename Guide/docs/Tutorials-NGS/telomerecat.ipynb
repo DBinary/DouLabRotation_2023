{
 "cells": [
  {
   "cell_type": "markdown",
   "metadata": {},
   "source": [
    "# 使用telomerecat估计端粒长度\n",
    "端粒是位于染色体末端的DNA-蛋白质复合体，在人出生时，其长度为8-15kb，每次复制之后，其长度会减少50-200bp。当端粒长度达到临界长度后，会导致复制性衰老和细胞衰亡。因此研究端粒长度对研究人类健康与疾病非常重要。\n",
    "\n",
    "在这里，我们将为您呈现对2018年发布的计算端粒长度的算法[telomerecat](https://www.nature.com/articles/s41598-017-14403-y)进行复现的过程，并对所得结果进行详细解释。\n",
    "\n",
    "点击此处可以获得[telomerecat](https://github.com/cancerit/telomerecat)的GitHub链接"
   ]
  },
  {
   "cell_type": "markdown",
   "metadata": {},
   "source": [
    "# telomerecat的计算原理"
   ]
  }
 ],
 "metadata": {
  "language_info": {
   "name": "python"
  }
 },
 "nbformat": 4,
 "nbformat_minor": 2
}
