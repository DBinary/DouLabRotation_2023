{
 "cells": [
  {
   "cell_type": "markdown",
   "metadata": {},
   "source": [
    "# 使用telomerehunter估计端粒长度\n",
    "端粒是位于染色体末端的DNA-蛋白质复合体，在人出生时，其长度为8-15kb，每次复制之后，其长度会减少50-200bp。当端粒长度达到临界长度后，会导致复制性衰老和细胞衰亡。因此研究端粒长度对研究人类健康与疾病非常重要。\n",
    "\n",
    "在这里，我们将为您呈现对2019年发布的计算端粒长度的算法[telomerehunter](https://bmcbioinformatics.biomedcentral.com/articles/10.1186/s12859-019-2851-0)进行复现的过程，并对所得结果进行详细解释。\n",
    "\n",
    "点击此处可以获得[telomerehunter](https://www.dkfz.de/en/applied-bioinformatics/telomerehunter/telomerehunter.html)的GitHub链接"
   ]
  },
  {
   "cell_type": "markdown",
   "metadata": {},
   "source": [
    "# telomerehunter的背景\n",
    "\n",
    "TelomereHunter是一个用于从人类全基因组测序数据中估算端粒含量的工具。**它被设计用于接收来自肿瘤和匹配对照样本的BAM文件作为输入。但也可以使用一个输入文件来运行TelomereHunter以计算端粒含量**。TelomereHunter从输入样本中提取并排序端粒reads，同时在估算端粒含量时，考虑了GC偏差。最后，TelomereHunter的结果以多个图表形式进行可视化呈现。\n",
    "\n",
    "**在不考虑肿瘤组织的科研课题中，我们只需要输入单一Bam文件即可使用telomerehunter计算端粒长度。**\n",
    "\n",
    "\n"
   ]
  },
  {
   "cell_type": "markdown",
   "metadata": {},
   "source": [
    "# telomerehunter的计算原理\n",
    "\n",
    "没有经过GC校正(Bam输入)的端粒长度按照以下公式进行计算：\n",
    "\n",
    "<math xmlns=\"http://www.w3.org/1998/Math/MathML\">\n",
    "  <mrow>\n",
    "    <mi>Telomere_Length</mi>\n",
    "    <mo>=</mo>\n",
    "    <mfrac>\n",
    "      <mi>Intratelomeric_Reads</mi>\n",
    "      <mi>All_Reads</mi>\n",
    "    </mfrac>\n",
    "  </mrow>\n",
    "</math>\n",
    "\n",
    "经过GC校正的端粒长度按照以下公式进行计算：\n",
    "\n",
    "<math xmlns=\"http://www.w3.org/1998/Math/MathML\">\n",
    "  <mrow>\n",
    "    <mi>Telomere_Length</mi>\n",
    "    <mo>=</mo>\n",
    "    <mfrac>\n",
    "      <mi>Intratelomeric_Reads</mi>\n",
    "      <mi>Reads_with_GC_48-52%</mi>\n",
    "    </mfrac>\n",
    "  </mrow>\n",
    "</math>\n",
    "\n",
    "\n",
    "如下图所示，telomerehunter从BAM格式的NGS数据中提取包含较高端粒重复序列的reads。\n",
    "\n",
    "提取得到包含较高端粒重复序列的reads后，telomerehunter使用来自BAM文件的比对信息对在第一步中选定的reads进行进一步的细分，将它们分为四个不同的类别。这些类别描述了reads在基因组中的位置和特性：\n",
    "\n",
    "*  **内端粒 (Intratelomeric)**：这一类别包括那些在端粒区域内部的reads。端粒是染色体末端的特殊序列，因此在这个类别中的reads表示它们包含了端粒序列，并定位在染色体末端。（也是公式中的Intratelomeric_Reads）\n",
    "\n",
    "*  **跨接口 (Junction Spanning)**：这一类别包括那些横跨端粒区域和其他区域的reads。这些reads可能横跨了端粒与非端粒区域之间的界限。\n",
    "\n",
    "*  **亚端粒 (Subtelomeric)**：亚端粒reads是在端粒区域附近，但并不在端粒内部的reads。它们位于染色体末端的接近端粒的区域，但不同于真正的端粒序列。\n",
    "\n",
    "*  **染色体内 (Intrachromosomal)**：这一类别包括那些在染色体内部的reads，即不在端粒区域也不跨越端粒区域的reads。这些reads定位在染色体的非末端区域。\n",
    "\n",
    "![Image title](./img/pipeline.png)\n"
   ]
  },
  {
   "cell_type": "markdown",
   "metadata": {},
   "source": [
    "# 下载，安装和运行telomerehunter以计算端粒长度\n",
    "\n",
    "在此，我们将介绍如何下载telomerehunter，如何使用miniconda创建telomerehunter能够运行的环境，如何调试环境以让telomerehunter正确运行。\n",
    "\n",
    "**请务必注意，telomerehunter是基于python2.0开发的**，我们创建环境的时候不可以创建python3.0以及以上版本的环境，否则无法安装telomerehunter。"
   ]
  },
  {
   "cell_type": "markdown",
   "metadata": {},
   "source": [
    "以下是作者给出的环境依赖需求：\n",
    "\n",
    " for telomere read extraction and calculation of telomere content\n",
    "  * python 2.7.9 (does not work for python 3!)\n",
    "    * pysam 0.9.0\n",
    "    * PyPDF2 1.26.0\n",
    "  * samtools 1.3.1"
   ]
  },
  {
   "cell_type": "code",
   "execution_count": null,
   "metadata": {
    "vscode": {
     "languageId": "shellscript"
    }
   },
   "outputs": [],
   "source": [
    "# 创建新环境\n",
    "conda create -n telomerehunter python=2.7\n",
    "# 启动环境\n",
    "conda  activate telomerehunter"
   ]
  },
  {
   "cell_type": "markdown",
   "metadata": {},
   "source": [
    "由于作者并没有给出telomerehunter的Github链接，所以我们无法利用传统的git clone方法安装telomerehunter。\n",
    "\n",
    "但是作者给出了上传在pypi的telomerehunter.whl文件的下载链接。我们可以手动下载.whl文件来安装telomerehunter，我们可以点击此处下载[telomerehunter](https://pypi.org/project/telomerehunter/#files)。\n",
    "\n",
    "\n",
    "**.whl 文件（Wheel 文件）是Python软件包的分发格式之一，用于简化Python包的安装和分发。**Wheel 文件的目标是提高Python包的安装效率和可移植性，以替代传统的.tar.gz或.zip源代码分发包。\n",
    "\n",
    "* 具体来说，.whl 文件是二进制分发包，其中包含了已编译的Python包，这意味着它们通常更容易安装，因为不需要编译源代码。\n",
    "\n",
    "* 对于.whl文件来讲，Python的包管理工具pip，可以直接安装.whl 文件。这使得通过pip安装Python包变得更加简单。\n",
    "\n",
    "所以我们使用以下代码，下载和安装telomerehunter\n"
   ]
  },
  {
   "cell_type": "code",
   "execution_count": null,
   "metadata": {
    "vscode": {
     "languageId": "shellscript"
    }
   },
   "outputs": [],
   "source": [
    "# 我们首先创建一个文件夹，用来存放telomerehunter.whl文件。\n",
    "mkdir telomerehunter\n",
    "cd telomerehunter\n",
    "\n",
    "# 使用wget指令下载TelomereHunter的安装包\n",
    "wget https://files.pythonhosted.org/packages/e5/67/ce6ac292a88a078a733dc3d9adb3f153834692effbf0851b93a6f3e49b7a/telomerehunter-1.1.0-py2-none-any.whl\n",
    "\n",
    "# 使用pip指令安装TelomereHunter\n",
    "pip install telomerehunter-1.1.0-py2-none-any.whl"
   ]
  },
  {
   "cell_type": "markdown",
   "metadata": {},
   "source": [
    "此外运行telomerehunter还需要samtools。\n",
    "\n",
    "西湖大学高性能计算中心提供了samtools的依赖支持，我们输入以下代码只需要手动启动samtools即可。"
   ]
  },
  {
   "cell_type": "code",
   "execution_count": null,
   "metadata": {
    "vscode": {
     "languageId": "shellscript"
    }
   },
   "outputs": [],
   "source": [
    "module load samtools/1.16.1  "
   ]
  },
  {
   "cell_type": "markdown",
   "metadata": {},
   "source": [
    "# 运行telomerehunter以估计样品的平均端粒长度\n",
    "\n",
    "你可以使用命令行或西湖大学高性能计算平台的srun系统来运行telomerehunter。\n",
    "\n",
    "下面提供了一个在srun系统中运行telomerehunter的模拟代码示例。在这个示例中，我们将计算特定路径下所有的BAM文件的平均端粒长度，并将结果输出到我们手动指定的目标文件夹中。\n",
    "\n",
    "请注意，我们只需要指定包含输入bam文件的文件夹，和保存输出结果的目标文件夹。\n",
    "\n",
    "如果你想查找**telomerehunter工具包的其他参数及其默认参数**，你可以在**命令行**中输入`telomerehunter -h`，即可得到相关参数说明。"
   ]
  },
  {
   "cell_type": "markdown",
   "metadata": {},
   "source": [
    "请注意，由于telomerehunter每次计算只能计算一个文件，且输出一个单独的文件夹，**意味着如果你输入多个文件，telomerehunter的结果会保存在多个文件夹的****_summary.tsv文件中**，如下图所示，所以我们需要对srun系统中的运行代码进行修改，手动指定输出的文件路径。"
   ]
  },
  {
   "cell_type": "markdown",
   "metadata": {},
   "source": [
    "\n",
    "![Image title](./img/telomerehunter_srun.png)"
   ]
  },
  {
   "cell_type": "code",
   "execution_count": null,
   "metadata": {
    "vscode": {
     "languageId": "shellscript"
    }
   },
   "outputs": [],
   "source": [
    "#!/bin/bash\n",
    "#SBATCH -p intel-sc3,amd-ep2\n",
    "#SBATCH -q normal\n",
    "#SBATCH -J preprocess\t\t\t\n",
    "#SBATCH -c 4\t\t\n",
    "#SBATCH -o /home/douyanmeiLab/hulei/WGS/telomere/Final_output/log/telomerehunter.log\n",
    "#SBATCH --mem=20G\n",
    "#SBATCH -t 120:00:00\n",
    "\n",
    "# 设置样本文件夹和输出文件夹的路径\n",
    "conda activate telomerehunter\n",
    "module load samtools/1.16.1  \n",
    "\n",
    "\n",
    "input_folder=\"/storage/douyanmeiLab/hulei/Data/Bam\"\n",
    "output_folder=\"/home/douyanmeiLab/hulei/WGS/telomere/Final_output/telomerehunter\"\n",
    "\n",
    "# 列出样本文件夹中的所有.bam文件\n",
    "bam_files=(\"$input_folder\"/*.bam)\n",
    "\n",
    "# 循环处理每个.bam文件\n",
    "for bam_file in \"${bam_files[@]}\"; do\n",
    "    # 提取.bam文件的文件名（不包括扩展名）作为样本名称\n",
    "    sample_name=$(basename \"$bam_file\" .bam)\n",
    "\n",
    "    # 打印样本名称\n",
    "    echo \"Processing sample: $sample_name\"\n",
    "\n",
    "    # 运行telomerehunter命令\n",
    "    telomerehunter -ibc \"$bam_file\" -p \"$sample_name\" -o \"$output_folder\"\n",
    "done\n"
   ]
  },
  {
   "cell_type": "markdown",
   "metadata": {},
   "source": [
    "# telomerehunter结果说明\n",
    "\n",
    "telomerehunter的输出结果是一个****_summary.tsv文件。每个文件包含一行的columns信息和一行的输出结果信息。\n",
    "\n",
    "对于这种类型的文件，你可以在Linux中手动打开它，或者创建一个IPython Notebook文件，并使用Pandas库来打开CSV文件。****_summary.tsv文件的内容如下：\n",
    "\n",
    "![Image title](./img/result.png)\n"
   ]
  },
  {
   "cell_type": "markdown",
   "metadata": {},
   "source": [
    "在此，我们简单介绍一下telseq输出文件中比较重要的几个结果。\n",
    "\n",
    "* PID：该参数由BAM头文件中的RG tag信息所确定，一般为样本的ID信息。\n",
    "\n",
    "* intratel_reads：被识别来自于内端粒的Reads数量。\n",
    "\n",
    "* total_reads_with_tel_gc：被识别gc含量在48-52%的reads数量。\n",
    "\n",
    "* **tel_content：telomerehunter估计的端粒长度，实际上这个长度是由intratel_reads*10^6/total_reads_with_tel_gc计算而来的。**"
   ]
  },
  {
   "cell_type": "markdown",
   "metadata": {},
   "source": [
    "我们可以写一个python代码，手动读取目标文件夹下面所有telomerehunter的输出的****_summary.tsv文件，然后将每个文件的输出结果合并在同一个tsv文件中，相关代码如下：\n",
    "\n",
    "在这个代码中，我们只需要指定保存telomerehunter的输出结果的文件夹和保存合并后的tsv文件的路径即可。这个代码会手动合并所有结果。"
   ]
  },
  {
   "cell_type": "code",
   "execution_count": null,
   "metadata": {
    "vscode": {
     "languageId": "shellscript"
    }
   },
   "outputs": [],
   "source": [
    "import os\n",
    "import pandas as pd\n",
    "\n",
    "# 目标文件夹路径\n",
    "target_folder = \"/home/douyanmeiLab/hulei/WGS/telomere/Final_output/telomerehunter\"\n",
    "output_file = \"/home/douyanmeiLab/hulei/WGS/telomere/Final_output/telomerehunter/merged_summary.tsv\"\n",
    "\n",
    "# 初始化一个空的DataFrame来存储合并的数据\n",
    "merged_data = pd.DataFrame()\n",
    "\n",
    "# 遍历目标文件夹及其子文件夹\n",
    "for root, dirs, files in os.walk(target_folder):\n",
    "    for file in files:\n",
    "        if file.endswith(\"_summary.tsv\"):\n",
    "            file_path = os.path.join(root, file)\n",
    "            # 读取每个子文件夹中的_summary.tsv文件内容\n",
    "            data = pd.read_csv(file_path, delimiter='\\t')\n",
    "            merged_data = pd.concat([merged_data, data], axis=0)\n",
    "\n",
    "# 保存合并后的数据到一个新的tsv文件\n",
    "merged_data.to_csv(output_file, sep='\\t', index=False)\n",
    "\n",
    "print(f\"合并完成，合并后的数据保存在{output_file}中。\")\n"
   ]
  },
  {
   "cell_type": "markdown",
   "metadata": {},
   "source": [
    "代码的输出结果如下图所示：\n",
    "\n",
    "![Image title](./img/pandas.png)"
   ]
  },
  {
   "cell_type": "markdown",
   "metadata": {},
   "source": [
    "基于这个输出结果，我们可以利用merged_summary.csv文件中的tel_content的数值来绘制估计的端粒长度与年龄之间的非线性相关关系。如下图所示.\n",
    "\n",
    "![Image title](./img/telomerehunter_plot.png)\n",
    "\n",
    "以上便是本教程的全部内容了，希望你能在此教程中有所收获，能够学会如何正确下载，安装，编译和使用telomerehunter软件，并且估计输入Bam文件对应的端粒长度。"
   ]
  }
 ],
 "metadata": {
  "language_info": {
   "name": "python"
  }
 },
 "nbformat": 4,
 "nbformat_minor": 2
}
